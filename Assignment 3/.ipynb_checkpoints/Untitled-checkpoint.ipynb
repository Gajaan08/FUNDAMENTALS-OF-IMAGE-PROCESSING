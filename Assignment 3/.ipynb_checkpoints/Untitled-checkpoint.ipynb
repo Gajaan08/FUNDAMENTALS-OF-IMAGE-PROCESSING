{
 "cells": [
  {
   "cell_type": "code",
   "execution_count": 10,
   "metadata": {},
   "outputs": [],
   "source": [
    "import cv2 as cv\n",
    "import numpy as np\n",
    "import matplotlib.pyplot as plt\n",
    "\n",
    "delta_x = 15 # can be thought of as the movement of the cx from frame to frame"
   ]
  },
  {
   "cell_type": "code",
   "execution_count": 11,
   "metadata": {},
   "outputs": [],
   "source": [
    "def get_indexed_image(im):\n",
    "    \"\"\" Thresholding, closing, and connected component analysis lumped\n",
    "    \"\"\" \n",
    "    threshold_val, threshold_im = cv.threshold(im,0,255,cv.THRESH_BINARY_INV+cv.THRESH_OTSU) # thresholding\n",
    "    kernel=np.ones((3,3),dtype=np.uint8) \n",
    "    closing_im = cv.morphologyEx(threshold_im, cv.MORPH_CLOSE, kernel) # closing\n",
    "    retval, labels, stats, centroids = cv.connectedComponentsWithStats(closing_im) # connected component analysis\n",
    "    return retval, labels, stats, centroids"
   ]
  },
  {
   "cell_type": "code",
   "execution_count": 12,
   "metadata": {},
   "outputs": [],
   "source": [
    "def is_new(a, b, delta, i):\n",
    "    \"\"\" Vector Dissimilarity with an Array of Vectors\n",
    "    Checks if vector b is similar to a one or more vectors in a outside the tolerances specified in delta. \n",
    "    vector i specifies which elements in b to compare with those in a. \n",
    "    \"\"\"\n",
    "    difference = np.abs(a - b) # Taking the absolute difference \n",
    "    'Check whether the absolute different between all the elements of ith column of each array is greater than the ith delta value (See the example in the next cell)'\n",
    "    difference[:,i] = (difference[:,i] > delta[i]) # comparing each component in the ith column with delta[i]\n",
    "\n",
    "    return difference[:,i].all() # return true when true for all values"
   ]
  },
  {
   "cell_type": "code",
   "execution_count": 13,
   "metadata": {},
   "outputs": [],
   "source": [
    "# check is_new  expected answer False\n",
    "a = np.array([[1.36100e+03, 5.53000e+02, 5.99245e+04, 2.00000e+00],\n",
    " [7.61000e+02, 4.53000e+02, 5.99385e+04, 1.00000e+00],\n",
    " [1.55200e+03, 2.43000e+02, 6.00585e+04, 3.00000e+00]])\n",
    "b = np.array([7.51000e+02, 4.53000e+02, 5.99385e+04, 3.00000e+00])\n",
    "delta = np.array([delta_x])\n",
    "i = np.array([0])\n",
    "assert is_new(a, b, delta, i) == False, \" Check the function \""
   ]
  },
  {
   "cell_type": "code",
   "execution_count": 14,
   "metadata": {},
   "outputs": [],
   "source": [
    "def prev_index(a, b, delta, i):\n",
    "    \"\"\" Returns Previous Index\n",
    "    Returns the index of the apppearance of the object in the previous frame.\n",
    "    (See the example in the next cell)\n",
    "    \"\"\"\n",
    "    index = -1\n",
    "    difference = np.abs(a - b) # Taking the absolute difference\n",
    "    difference[:,i] = (difference[:,i] <= delta[i])\n",
    "    index = np.where(difference[:,i])[0]\n",
    "    return index"
   ]
  },
  {
   "cell_type": "code",
   "execution_count": 15,
   "metadata": {},
   "outputs": [],
   "source": [
    "# check prev_index  expected answer 1\n",
    "a = np.array([[1.36100e+03, 5.53000e+02, 5.99245e+04, 2.00000e+00],\n",
    " [7.61000e+02, 4.53000e+02, 5.99385e+04, 1.00000e+00],\n",
    " [1.55200e+03, 2.43000e+02, 6.00585e+04, 3.00000e+00]])\n",
    "b = np.array([7.51000e+02, 4.53000e+02, 5.99385e+04, 3.00000e+00])\n",
    "delta = np.array([delta_x])\n",
    "i = np.array([0])\n",
    "\n",
    "assert prev_index(a,b,delta,i) == 1, \" Check the function \""
   ]
  },
  {
   "cell_type": "code",
   "execution_count": 16,
   "metadata": {},
   "outputs": [
    {
     "name": "stdout",
     "output_type": "stream",
     "text": [
      "Can't receive frame (stream end?). Exiting ...\n",
      "380\n"
     ]
    }
   ],
   "source": [
    "grayscale_frames =[] # stores grayscale frames\n",
    "cap = cv.VideoCapture('conveyor.mp4') # vedio location at root directory\n",
    "while cap.isOpened(): \n",
    "    ret, frame = cap.read()\n",
    "    if not ret:\n",
    "        print(\"Can't receive frame (stream end?). Exiting ...\")\n",
    "        break\n",
    "    gray=cv.cvtColor(frame,cv.COLOR_RGB2GRAY)\n",
    "    grayscale_frames.append(gray)\n",
    "    cv.imshow(\"Frame\",frame)\n",
    "    if cv.waitKey(1) == ord('q'):  \n",
    "        break\n",
    "\n",
    "cap.release()\n",
    "cv.destroyAllWindows()\n",
    "print(len(grayscale_frames))"
   ]
  },
  {
   "cell_type": "code",
   "execution_count": 17,
   "metadata": {},
   "outputs": [
    {
     "ename": "NameError",
     "evalue": "name 'contours_t' is not defined",
     "output_type": "error",
     "traceback": [
      "\u001b[1;31m---------------------------------------------------------------------------\u001b[0m",
      "\u001b[1;31mNameError\u001b[0m                                 Traceback (most recent call last)",
      "\u001b[1;32m<ipython-input-17-95d709133133>\u001b[0m in \u001b[0;36m<module>\u001b[1;34m\u001b[0m\n\u001b[0;32m      9\u001b[0m     \u001b[0mframe\u001b[0m \u001b[1;33m=\u001b[0m \u001b[1;33m[\u001b[0m\u001b[1;33m]\u001b[0m \u001b[1;31m# an array to append variables of cinnected components\u001b[0m\u001b[1;33m\u001b[0m\u001b[1;33m\u001b[0m\u001b[0m\n\u001b[0;32m     10\u001b[0m     \u001b[1;32mfor\u001b[0m \u001b[0mcontour\u001b[0m \u001b[1;32min\u001b[0m \u001b[0mcontours\u001b[0m\u001b[1;33m:\u001b[0m\u001b[1;33m\u001b[0m\u001b[1;33m\u001b[0m\u001b[0m\n\u001b[1;32m---> 11\u001b[1;33m         \u001b[0mmetric\u001b[0m \u001b[1;33m=\u001b[0m \u001b[0mcv\u001b[0m\u001b[1;33m.\u001b[0m\u001b[0mmatchShapes\u001b[0m\u001b[1;33m(\u001b[0m\u001b[0mcontours_t\u001b[0m\u001b[1;33m[\u001b[0m\u001b[1;36m0\u001b[0m\u001b[1;33m]\u001b[0m\u001b[1;33m,\u001b[0m \u001b[0mcontour\u001b[0m\u001b[1;33m,\u001b[0m \u001b[0mcv\u001b[0m\u001b[1;33m.\u001b[0m\u001b[0mCONTOURS_MATCH_I1\u001b[0m\u001b[1;33m,\u001b[0m \u001b[1;36m0.0\u001b[0m\u001b[1;33m)\u001b[0m\u001b[1;33m\u001b[0m\u001b[1;33m\u001b[0m\u001b[0m\n\u001b[0m\u001b[0;32m     12\u001b[0m         \u001b[1;32mif\u001b[0m \u001b[0mmetric\u001b[0m \u001b[1;33m<=\u001b[0m \u001b[1;36m0.5\u001b[0m\u001b[1;33m:\u001b[0m\u001b[1;33m\u001b[0m\u001b[1;33m\u001b[0m\u001b[0m\n\u001b[0;32m     13\u001b[0m             \u001b[0mcount\u001b[0m \u001b[1;33m+=\u001b[0m \u001b[1;36m1\u001b[0m\u001b[1;33m\u001b[0m\u001b[1;33m\u001b[0m\u001b[0m\n",
      "\u001b[1;31mNameError\u001b[0m: name 'contours_t' is not defined"
     ]
    }
   ],
   "source": [
    "video = []\n",
    "contours_list = []\n",
    "contours_plots = []\n",
    "for i,im in enumerate (grayscale_frames):\n",
    "    retval, labels, stats, centroids = get_indexed_image(im) # Call get_indexed_image and extract retval, labels, stats, centroids.\n",
    "    belt = ((labels >= 1)*255).astype('uint8') \n",
    "    contours,hierarchy = cv.findContours(belt, cv.RETR_EXTERNAL, cv.CHAIN_APPROX_SIMPLE) # Find contours of all nuts present in a given frame of the belt.\n",
    "    count = 0 # number of nuts in each frame\n",
    "    frame = [] # an array to append variables of cinnected components\n",
    "    for contour in contours:\n",
    "        metric = cv.matchShapes(contours_t[0], contour, cv.CONTOURS_MATCH_I1, 0.0)\n",
    "        if metric <= 0.5: \n",
    "            count += 1\n",
    "            M  = cv.moments(contour)\n",
    "            ca = M['m00']\n",
    "            cx, cy = int(M['m10']/M['m00']), int(M['m01']/M['m00'])\n",
    "            frame.append(np.array([cx, cy, ca, count])) # Coordinates of the centroid, Area and nut count\n",
    "    contours_list.append(contours)\n",
    "    video.append(frame)\n",
    "    im_contours_belt = np.zeros((belt.shape[0],belt.shape[1],3), np.uint8) #Initiate a 3-D array with zeros to draw contours. \n",
    "    cont = cv.drawContours(im_contours_belt, contours, -1, (0,255,0), 5).astype('uint8') # Draw each contour\n",
    "    contours_plots.append(cont)\n",
    "    \n",
    "    cv.putText(cont,'Frame No:%i'%(i),(1000,200),cv.FONT_HERSHEY_SIMPLEX, 2,(0,255,0),2,cv.LINE_AA)\n",
    "    cv.imshow('contours',cont)\n",
    "    if cv.waitKey(1) == ord('q'):  \n",
    "        break\n",
    "        \n",
    "cap.release()\n",
    "cv.destroyAllWindows()"
   ]
  },
  {
   "cell_type": "code",
   "execution_count": 9,
   "metadata": {},
   "outputs": [
    {
     "name": "stdout",
     "output_type": "stream",
     "text": [
      "length of vedio array :  0\n"
     ]
    },
    {
     "ename": "IndexError",
     "evalue": "list index out of range",
     "output_type": "error",
     "traceback": [
      "\u001b[1;31m---------------------------------------------------------------------------\u001b[0m",
      "\u001b[1;31mIndexError\u001b[0m                                Traceback (most recent call last)",
      "\u001b[1;32m<ipython-input-9-abc724560192>\u001b[0m in \u001b[0;36m<module>\u001b[1;34m\u001b[0m\n\u001b[0;32m      2\u001b[0m \u001b[0mprint\u001b[0m\u001b[1;33m(\u001b[0m\u001b[1;34m\"length of vedio array : \"\u001b[0m\u001b[1;33m,\u001b[0m\u001b[0mlen\u001b[0m\u001b[1;33m(\u001b[0m\u001b[0mvideo\u001b[0m\u001b[1;33m)\u001b[0m\u001b[1;33m)\u001b[0m\u001b[1;33m\u001b[0m\u001b[1;33m\u001b[0m\u001b[0m\n\u001b[0;32m      3\u001b[0m \u001b[1;31m#details contained in the vedio array\u001b[0m\u001b[1;33m\u001b[0m\u001b[1;33m\u001b[0m\u001b[1;33m\u001b[0m\u001b[0m\n\u001b[1;32m----> 4\u001b[1;33m \u001b[0mprint\u001b[0m\u001b[1;33m(\u001b[0m\u001b[0mvideo\u001b[0m\u001b[1;33m[\u001b[0m\u001b[1;36m0\u001b[0m\u001b[1;33m]\u001b[0m\u001b[1;33m)\u001b[0m\u001b[1;33m\u001b[0m\u001b[1;33m\u001b[0m\u001b[0m\n\u001b[0m\u001b[0;32m      5\u001b[0m \u001b[0mprint\u001b[0m\u001b[1;33m(\u001b[0m\u001b[0mvideo\u001b[0m\u001b[1;33m[\u001b[0m\u001b[1;36m279\u001b[0m\u001b[1;33m]\u001b[0m\u001b[1;33m)\u001b[0m\u001b[1;33m\u001b[0m\u001b[1;33m\u001b[0m\u001b[0m\n\u001b[0;32m      6\u001b[0m \u001b[1;31m# Random Conssecative frame value plot\u001b[0m\u001b[1;33m\u001b[0m\u001b[1;33m\u001b[0m\u001b[1;33m\u001b[0m\u001b[0m\n",
      "\u001b[1;31mIndexError\u001b[0m: list index out of range"
     ]
    }
   ],
   "source": [
    "#length of vedio array\n",
    "print(\"length of vedio array : \",len(video))\n",
    "#details contained in the vedio array\n",
    "print(video[0])\n",
    "print(video[279])\n",
    "# Random Conssecative frame value plot\n",
    "fig,ax=plt.subplots(2,3,figsize=(20,10))\n",
    "ax[0][0].imshow(contours_plots[200])\n",
    "ax[0][1].imshow(contours_plots[201])\n",
    "ax[0][2].imshow(contours_plots[202])\n",
    "ax[1][0].imshow(contours_plots[203])\n",
    "ax[1][1].imshow(contours_plots[204])\n",
    "ax[1][2].imshow(contours_plots[205])\n",
    "plt.show()"
   ]
  },
  {
   "cell_type": "markdown",
   "metadata": {},
   "source": [
    "# Detecting Objects on a Synthetic Conveyor"
   ]
  },
  {
   "cell_type": "code",
   "execution_count": 18,
   "metadata": {},
   "outputs": [
    {
     "name": "stdout",
     "output_type": "stream",
     "text": [
      "Can't receive frame (stream end?). Exiting.\n"
     ]
    }
   ],
   "source": []
  },
  {
   "cell_type": "code",
   "execution_count": 19,
   "metadata": {},
   "outputs": [],
   "source": []
  },
  {
   "cell_type": "code",
   "execution_count": 20,
   "metadata": {},
   "outputs": [],
   "source": []
  },
  {
   "cell_type": "code",
   "execution_count": 21,
   "metadata": {},
   "outputs": [],
   "source": []
  },
  {
   "cell_type": "code",
   "execution_count": 22,
   "metadata": {},
   "outputs": [
    {
     "ename": "NameError",
     "evalue": "name 'hexnut_template_closed' is not defined",
     "output_type": "error",
     "traceback": [
      "\u001b[1;31m---------------------------------------------------------------------------\u001b[0m",
      "\u001b[1;31mNameError\u001b[0m                                 Traceback (most recent call last)",
      "\u001b[1;32m<ipython-input-22-af12f19429ff>\u001b[0m in \u001b[0;36m<module>\u001b[1;34m\u001b[0m\n\u001b[0;32m      7\u001b[0m \u001b[1;33m\u001b[0m\u001b[0m\n\u001b[0;32m      8\u001b[0m \u001b[1;33m\u001b[0m\u001b[0m\n\u001b[1;32m----> 9\u001b[1;33m \u001b[0mhexnut_contures\u001b[0m\u001b[1;33m,\u001b[0m \u001b[0mhexnut_area\u001b[0m    \u001b[1;33m=\u001b[0m \u001b[0mAnalyse_contures\u001b[0m\u001b[1;33m(\u001b[0m\u001b[0mhexnut_template_closed\u001b[0m\u001b[1;33m)\u001b[0m\u001b[1;33m\u001b[0m\u001b[1;33m\u001b[0m\u001b[0m\n\u001b[0m\u001b[0;32m     10\u001b[0m \u001b[0mSqrNut_contures\u001b[0m \u001b[1;33m,\u001b[0m \u001b[0msquarenut_area\u001b[0m \u001b[1;33m=\u001b[0m \u001b[0mAnalyse_contures\u001b[0m\u001b[1;33m(\u001b[0m\u001b[0msquarenut_template_closed\u001b[0m\u001b[1;33m)\u001b[0m\u001b[1;33m\u001b[0m\u001b[1;33m\u001b[0m\u001b[0m\n",
      "\u001b[1;31mNameError\u001b[0m: name 'hexnut_template_closed' is not defined"
     ]
    }
   ],
   "source": []
  },
  {
   "cell_type": "code",
   "execution_count": null,
   "metadata": {},
   "outputs": [],
   "source": []
  }
 ],
 "metadata": {
  "kernelspec": {
   "display_name": "Python 3",
   "language": "python",
   "name": "python3"
  },
  "language_info": {
   "codemirror_mode": {
    "name": "ipython",
    "version": 3
   },
   "file_extension": ".py",
   "mimetype": "text/x-python",
   "name": "python",
   "nbconvert_exporter": "python",
   "pygments_lexer": "ipython3",
   "version": "3.8.5"
  }
 },
 "nbformat": 4,
 "nbformat_minor": 4
}
