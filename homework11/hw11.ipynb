{
 "cells": [
  {
   "cell_type": "markdown",
   "metadata": {
    "id": "sMrRdS93WcoT"
   },
   "source": [
    "Name: Gajaanan S.\n",
    "Index No: 190185D"
   ]
  },
  {
   "cell_type": "code",
   "execution_count": null,
   "metadata": {
    "colab": {
     "base_uri": "https://localhost:8080/"
    },
    "id": "rh8J7xuGAXjw",
    "outputId": "287ac632-ef84-4aea-dab8-1da85feff9ea"
   },
   "outputs": [
    {
     "name": "stdout",
     "output_type": "stream",
     "text": [
      "Downloading data from https://storage.googleapis.com/tensorflow/tf-keras-datasets/mnist.npz\n",
      "11493376/11490434 [==============================] - 0s 0us/step\n",
      "11501568/11490434 [==============================] - 0s 0us/step\n",
      "train_images.shape:  (60000, 32, 32)\n",
      "train_labels.shape:  (60000,)\n",
      "test_images.shape: (10000, 32, 32)\n",
      "test_labels.shape: (10000,)\n"
     ]
    }
   ],
   "source": [
    "#Q1\n",
    "import tensorflow as tf\n",
    "from tensorflow import keras\n",
    "from tensorflow.keras import datasets, layers, models\n",
    "import numpy as np\n",
    "import matplotlib.pyplot as plt\n",
    "\n",
    "mnist = keras.datasets.mnist\n",
    "(train_images, train_labels), (test_images, test_labels) = mnist.load_data()\n",
    "\n",
    "# Padding\n",
    "paddings = tf.constant([[0, 0], [2, 2], [2, 2]])\n",
    "train_images = tf.pad(train_images, paddings, constant_values=0)\n",
    "test_images = tf.pad(test_images, paddings, constant_values=0)\n",
    "\n",
    "print('train_images.shape: ', train_images.shape)\n",
    "print('train_labels.shape: ', train_labels.shape)\n",
    "print('test_images.shape:', test_images.shape)\n",
    "print('test_labels.shape:', test_labels.shape)\n",
    "class_names = ['0', '1', '2', '3', '4', '5', '6', '7', '8', '9']\n",
    "\n",
    "train_images = tf.dtypes.cast(train_images, tf.float32)\n",
    "test_images = tf.dtypes.cast(test_images, tf.float32)\n",
    "train_images, test_images = train_images[..., np.newaxis]/255.0, test_images[..., np.newaxis]/255.0\n"
   ]
  },
  {
   "cell_type": "code",
   "execution_count": null,
   "metadata": {
    "colab": {
     "base_uri": "https://localhost:8080/"
    },
    "id": "ZjTTxPT8All_",
    "outputId": "93758a22-b1d7-4963-adb4-eed6f7cc2643"
   },
   "outputs": [
    {
     "name": "stdout",
     "output_type": "stream",
     "text": [
      "Model: \"sequential\"\n",
      "_________________________________________________________________\n",
      " Layer (type)                Output Shape              Param #   \n",
      "=================================================================\n",
      " conv2d (Conv2D)             (None, 28, 28, 6)         156       \n",
      "                                                                 \n",
      " average_pooling2d (AverageP  (None, 14, 14, 6)        0         \n",
      " ooling2D)                                                       \n",
      "                                                                 \n",
      " conv2d_1 (Conv2D)           (None, 10, 10, 16)        2416      \n",
      "                                                                 \n",
      " average_pooling2d_1 (Averag  (None, 5, 5, 16)         0         \n",
      " ePooling2D)                                                     \n",
      "                                                                 \n",
      " flatten (Flatten)           (None, 400)               0         \n",
      "                                                                 \n",
      " dense (Dense)               (None, 120)               48120     \n",
      "                                                                 \n",
      " dense_1 (Dense)             (None, 84)                10164     \n",
      "                                                                 \n",
      " dense_2 (Dense)             (None, 10)                850       \n",
      "                                                                 \n",
      "=================================================================\n",
      "Total params: 61,706\n",
      "Trainable params: 61,706\n",
      "Non-trainable params: 0\n",
      "_________________________________________________________________\n",
      "None\n",
      "Epoch 1/5\n",
      "1875/1875 [==============================] - 38s 20ms/step - loss: 0.2113 - accuracy: 0.9346\n",
      "Epoch 2/5\n",
      "1875/1875 [==============================] - 37s 20ms/step - loss: 0.0653 - accuracy: 0.9800\n",
      "Epoch 3/5\n",
      "1875/1875 [==============================] - 36s 19ms/step - loss: 0.0465 - accuracy: 0.9855\n",
      "Epoch 4/5\n",
      "1875/1875 [==============================] - 38s 20ms/step - loss: 0.0361 - accuracy: 0.9886\n",
      "Epoch 5/5\n",
      "1875/1875 [==============================] - 38s 20ms/step - loss: 0.0289 - accuracy: 0.9910\n",
      "313/313 - 3s - loss: 0.0402 - accuracy: 0.9874 - 3s/epoch - 9ms/step\n"
     ]
    }
   ],
   "source": [
    "model = models.Sequential()\n",
    "model.add(layers.Conv2D(6,(5,5),activation='relu',input_shape=(32,32,1)))\n",
    "model.add(layers.AveragePooling2D((2,2)))\n",
    "model.add(layers.Conv2D(16,(5,5),activation='relu'))\n",
    "model.add(layers.AveragePooling2D((2,2)))\n",
    "model.add(layers.Flatten())\n",
    "model.add(layers.Dense(120,activation='relu'))\n",
    "model.add(layers.Dense(84,activation='relu'))\n",
    "model.add(layers.Dense(10))\n",
    "model.compile(optimizer='adam',loss=tf.keras.losses.SparseCategoricalCrossentropy(from_logits=True),metrics=['accuracy'])\n",
    "print(model.summary())\n",
    "model.fit(train_images,train_labels,epochs=5)\n",
    "test_loss,train_loss=model.evaluate(test_images,test_labels,verbose=2)"
   ]
  },
  {
   "cell_type": "code",
   "execution_count": null,
   "metadata": {
    "colab": {
     "base_uri": "https://localhost:8080/"
    },
    "id": "QrPS5qH7Oz9B",
    "outputId": "c81c1ee8-56c2-4a75-dbe1-728fdefa12f8"
   },
   "outputs": [
    {
     "name": "stdout",
     "output_type": "stream",
     "text": [
      "train_images.shape:  (50000, 32, 32, 3)\n",
      "train_labels.shape:  (50000, 1)\n",
      "test_images.shape: (10000, 32, 32, 3)\n",
      "test_labels.shape: (10000, 1)\n"
     ]
    }
   ],
   "source": [
    "#Q2\n",
    "import tensorflow as tf\n",
    "from tensorflow import keras\n",
    "import matplotlib.pyplot as plt\n",
    "from tensorflow.keras.datasets import cifar10,mnist\n",
    "(train_images,train_labels),(test_images,test_labels) = datasets.cifar10.load_data()\n",
    "\n",
    "train_images,test_images = train_images / 255.0, test_images / 255.0\n",
    "class_names = ['airplane','automobile','bird','cat','deer','dog','frog','horse','ship','truck']\n",
    "print('train_images.shape: ', train_images.shape)\n",
    "print('train_labels.shape: ', train_labels.shape)\n",
    "print('test_images.shape:', test_images.shape)\n",
    "print('test_labels.shape:', test_labels.shape)"
   ]
  },
  {
   "cell_type": "code",
   "execution_count": null,
   "metadata": {
    "colab": {
     "base_uri": "https://localhost:8080/"
    },
    "id": "ianpkHW_QcDu",
    "outputId": "38577489-1244-4ce5-8832-3ae8585301ab"
   },
   "outputs": [
    {
     "name": "stdout",
     "output_type": "stream",
     "text": [
      "Model: \"sequential_1\"\n",
      "_________________________________________________________________\n",
      " Layer (type)                Output Shape              Param #   \n",
      "=================================================================\n",
      " conv2d_2 (Conv2D)           (None, 28, 28, 32)        2432      \n",
      "                                                                 \n",
      " max_pooling2d (MaxPooling2D  (None, 14, 14, 32)       0         \n",
      " )                                                               \n",
      "                                                                 \n",
      " conv2d_3 (Conv2D)           (None, 10, 10, 64)        51264     \n",
      "                                                                 \n",
      " max_pooling2d_1 (MaxPooling  (None, 5, 5, 64)         0         \n",
      " 2D)                                                             \n",
      "                                                                 \n",
      " conv2d_4 (Conv2D)           (None, 3, 3, 128)         73856     \n",
      "                                                                 \n",
      " max_pooling2d_2 (MaxPooling  (None, 1, 1, 128)        0         \n",
      " 2D)                                                             \n",
      "                                                                 \n",
      " flatten_1 (Flatten)         (None, 128)               0         \n",
      "                                                                 \n",
      " dense_3 (Dense)             (None, 64)                8256      \n",
      "                                                                 \n",
      " dense_4 (Dense)             (None, 10)                650       \n",
      "                                                                 \n",
      "=================================================================\n",
      "Total params: 136,458\n",
      "Trainable params: 136,458\n",
      "Non-trainable params: 0\n",
      "_________________________________________________________________\n",
      "None\n",
      "Epoch 1/5\n",
      "1563/1563 [==============================] - 98s 63ms/step - loss: 1.6396 - accuracy: 0.3928\n",
      "Epoch 2/5\n",
      "1563/1563 [==============================] - 106s 68ms/step - loss: 1.2922 - accuracy: 0.5383\n",
      "Epoch 3/5\n",
      "1563/1563 [==============================] - 111s 71ms/step - loss: 1.1434 - accuracy: 0.5958\n",
      "Epoch 4/5\n",
      "1563/1563 [==============================] - 122s 78ms/step - loss: 1.0543 - accuracy: 0.6294\n",
      "Epoch 5/5\n",
      "1563/1563 [==============================] - 104s 67ms/step - loss: 0.9717 - accuracy: 0.6580\n",
      "313/313 - 5s - loss: 1.0763 - accuracy: 0.6260 - 5s/epoch - 15ms/step\n",
      "0.6259999871253967\n"
     ]
    }
   ],
   "source": [
    "model = models.Sequential()\n",
    "model.add(layers.Conv2D(32,(5,5),activation='relu',input_shape=(32,32,3)))\n",
    "model.add(layers.MaxPool2D((2,2)))\n",
    "model.add(layers.Conv2D(64,(5,5),activation='relu'))\n",
    "model.add(layers.MaxPool2D((2,2)))\n",
    "model.add(layers.Conv2D(128,(3,3),activation='relu'))\n",
    "model.add(layers.MaxPool2D((2,2)))\n",
    "model.add(layers.Flatten())\n",
    "model.add(layers.Dense(64,activation='relu'))\n",
    "model.add(layers.Dense(10))\n",
    "\n",
    "model.compile(optimizer=keras.optimizers.Adam(learning_rate=0.001),loss=tf.keras.losses.SparseCategoricalCrossentropy(from_logits=True),metrics=['accuracy'])\n",
    "print(model.summary())\n",
    "model.fit(train_images,train_labels,epochs=5)\n",
    "test_loss,test_acc = model.evaluate(test_images,test_labels,verbose=2)\n",
    "print(test_acc)"
   ]
  },
  {
   "cell_type": "code",
   "execution_count": null,
   "metadata": {
    "colab": {
     "base_uri": "https://localhost:8080/"
    },
    "id": "ND8AywWFSEdB",
    "outputId": "fd681aba-1841-46b5-9380-29b686bc9027"
   },
   "outputs": [
    {
     "name": "stdout",
     "output_type": "stream",
     "text": [
      "train_images.shape:  (60000, 32, 32)\n",
      "train_labels.shape:  (60000,)\n",
      "test_images.shape: (10000, 32, 32)\n",
      "test_labels.shape: (10000,)\n",
      "Model: \"sequential_3\"\n",
      "_________________________________________________________________\n",
      " Layer (type)                Output Shape              Param #   \n",
      "=================================================================\n",
      " conv2d_7 (Conv2D)           (None, 30, 30, 32)        320       \n",
      "                                                                 \n",
      " max_pooling2d_5 (MaxPooling  (None, 15, 15, 32)       0         \n",
      " 2D)                                                             \n",
      "                                                                 \n",
      " conv2d_8 (Conv2D)           (None, 13, 13, 64)        18496     \n",
      "                                                                 \n",
      " max_pooling2d_6 (MaxPooling  (None, 6, 6, 64)         0         \n",
      " 2D)                                                             \n",
      "                                                                 \n",
      " flatten_3 (Flatten)         (None, 2304)              0         \n",
      "                                                                 \n",
      " dense_7 (Dense)             (None, 64)                147520    \n",
      "                                                                 \n",
      " dense_8 (Dense)             (None, 10)                650       \n",
      "                                                                 \n",
      "=================================================================\n",
      "Total params: 166,986\n",
      "Trainable params: 166,986\n",
      "Non-trainable params: 0\n",
      "_________________________________________________________________\n",
      "None\n",
      "Epoch 1/2\n",
      "1875/1875 [==============================] - 66s 35ms/step - loss: 0.1416 - accuracy: 0.9553\n",
      "Epoch 2/2\n",
      "1875/1875 [==============================] - 76s 41ms/step - loss: 0.0470 - accuracy: 0.9857\n",
      "313/313 - 3s - loss: 0.0391 - accuracy: 0.9882 - 3s/epoch - 9ms/step\n"
     ]
    }
   ],
   "source": [
    "#Q3\n",
    "import tensorflow as tf\n",
    "from tensorflow import keras\n",
    "from tensorflow.keras import datasets, layers, models\n",
    "import numpy as np\n",
    "import matplotlib.pyplot as plt\n",
    "\n",
    "mnist = keras.datasets.mnist\n",
    "(train_images, train_labels), (test_images, test_labels) = mnist.load_data()\n",
    "\n",
    "# Padding\n",
    "paddings = tf.constant([[0, 0], [2, 2], [2, 2]])\n",
    "train_images = tf.pad(train_images, paddings, constant_values=0)\n",
    "test_images = tf.pad(test_images, paddings, constant_values=0)\n",
    "\n",
    "print('train_images.shape: ', train_images.shape)\n",
    "print('train_labels.shape: ', train_labels.shape)\n",
    "print('test_images.shape:', test_images.shape)\n",
    "print('test_labels.shape:', test_labels.shape)\n",
    "class_names = ['0', '1', '2', '3', '4', '5', '6', '7', '8', '9']\n",
    "\n",
    "train_images = tf.dtypes.cast(train_images, tf.float32)\n",
    "test_images = tf.dtypes.cast(test_images, tf.float32)\n",
    "train_images, test_images = train_images[..., np.newaxis]/255.0, test_images[..., np.newaxis]/255.0\n",
    "\n",
    "model_base = models.Sequential()\n",
    "model_base.add(layers.Conv2D(32,(3,3),activation='relu',input_shape=(32,32,1)))\n",
    "model_base.add(layers.MaxPool2D((2,2)))\n",
    "model_base.add(layers.Conv2D(64,(3,3),activation='relu'))\n",
    "model_base.add(layers.MaxPool2D((2,2)))\n",
    "model_base.add(layers.Flatten())\n",
    "model_base.add(layers.Dense(64,activation='relu'))\n",
    "model_base.add(layers.Dense(10))\n",
    "\n",
    "model_base.compile(optimizer=keras.optimizers.Adam() ,loss=tf.keras.losses.SparseCategoricalCrossentropy(from_logits=True),metrics=['accuracy'])\n",
    "print(model_base.summary())\n",
    "model_base.fit(train_images,train_labels,epochs=2)\n",
    "test_loss,test_acc = model_base.evaluate(test_images,test_labels,verbose=2)\n",
    "model_base.save_weights('saved_weights/')"
   ]
  },
  {
   "cell_type": "code",
   "execution_count": null,
   "metadata": {
    "colab": {
     "base_uri": "https://localhost:8080/"
    },
    "id": "hASSVkbPU05W",
    "outputId": "eb88ad09-64e5-460e-de85-1d9b677681bb"
   },
   "outputs": [
    {
     "name": "stdout",
     "output_type": "stream",
     "text": [
      "Model: \"sequential_6\"\n",
      "_________________________________________________________________\n",
      " Layer (type)                Output Shape              Param #   \n",
      "=================================================================\n",
      " conv2d_13 (Conv2D)          (None, 30, 30, 32)        320       \n",
      "                                                                 \n",
      " max_pooling2d_11 (MaxPoolin  (None, 15, 15, 32)       0         \n",
      " g2D)                                                            \n",
      "                                                                 \n",
      " conv2d_14 (Conv2D)          (None, 13, 13, 64)        18496     \n",
      "                                                                 \n",
      " max_pooling2d_12 (MaxPoolin  (None, 6, 6, 64)         0         \n",
      " g2D)                                                            \n",
      "                                                                 \n",
      " flatten_6 (Flatten)         (None, 2304)              0         \n",
      "                                                                 \n",
      " dense_13 (Dense)            (None, 64)                147520    \n",
      "                                                                 \n",
      " dense_14 (Dense)            (None, 10)                650       \n",
      "                                                                 \n",
      "=================================================================\n",
      "Total params: 166,986\n",
      "Trainable params: 166,986\n",
      "Non-trainable params: 0\n",
      "_________________________________________________________________\n",
      "None\n",
      "Epoch 1/2\n",
      "1875/1875 [==============================] - 68s 36ms/step - loss: 0.0320 - accuracy: 0.9905\n",
      "Epoch 2/2\n",
      "1875/1875 [==============================] - 66s 35ms/step - loss: 0.0232 - accuracy: 0.9926\n",
      "313/313 - 3s - loss: 0.0299 - accuracy: 0.9900 - 3s/epoch - 10ms/step\n",
      "INFO:tensorflow:Assets written to: saved_model/assets\n"
     ]
    }
   ],
   "source": [
    "#Q4\n",
    "model_lw = models.Sequential()\n",
    "model_lw.add(layers.Conv2D(32,(3,3),activation='relu',input_shape=(32,32,1)))\n",
    "model_lw.add(layers.MaxPool2D((2,2)))\n",
    "model_lw.add(layers.Conv2D(64,(3,3),activation='relu'))\n",
    "model_lw.add(layers.MaxPool2D((2,2)))\n",
    "model_lw.add(layers.Flatten())\n",
    "model_lw.add(layers.Dense(64,activation='relu'))\n",
    "model_lw.add(layers.Dense(10))\n",
    "\n",
    "model_lw.compile(optimizer=keras.optimizers.Adam() ,loss=tf.keras.losses.SparseCategoricalCrossentropy(from_logits=True),metrics=['accuracy'])\n",
    "print(model_lw.summary())\n",
    "\n",
    "model_lw.load_weights('saved_weights/')\n",
    "\n",
    "model_lw.fit(train_images,train_labels,epochs=2)\n",
    "test_loss,test_acc = model_lw.evaluate(test_images,test_labels,verbose=2)\n",
    "model_lw.save('saved_model/')"
   ]
  },
  {
   "cell_type": "code",
   "execution_count": null,
   "metadata": {
    "colab": {
     "base_uri": "https://localhost:8080/"
    },
    "id": "DiRB5T9zW3Zn",
    "outputId": "ea06d4ef-4203-41d6-94dd-2b3658129aab"
   },
   "outputs": [
    {
     "name": "stdout",
     "output_type": "stream",
     "text": [
      "Model: \"sequential_6\"\n",
      "_________________________________________________________________\n",
      " Layer (type)                Output Shape              Param #   \n",
      "=================================================================\n",
      " conv2d_13 (Conv2D)          (None, 30, 30, 32)        320       \n",
      "                                                                 \n",
      " max_pooling2d_11 (MaxPoolin  (None, 15, 15, 32)       0         \n",
      " g2D)                                                            \n",
      "                                                                 \n",
      " conv2d_14 (Conv2D)          (None, 13, 13, 64)        18496     \n",
      "                                                                 \n",
      " max_pooling2d_12 (MaxPoolin  (None, 6, 6, 64)         0         \n",
      " g2D)                                                            \n",
      "                                                                 \n",
      " flatten_6 (Flatten)         (None, 2304)              0         \n",
      "                                                                 \n",
      " dense_13 (Dense)            (None, 64)                147520    \n",
      "                                                                 \n",
      " dense_14 (Dense)            (None, 10)                650       \n",
      "                                                                 \n",
      "=================================================================\n",
      "Total params: 166,986\n",
      "Trainable params: 166,986\n",
      "Non-trainable params: 0\n",
      "_________________________________________________________________\n",
      "None\n",
      "313/313 - 4s - loss: 0.0299 - accuracy: 0.9900 - 4s/epoch - 14ms/step\n"
     ]
    },
    {
     "data": {
      "text/plain": [
       "[0.02990245446562767, 0.9900000095367432]"
      ]
     },
     "execution_count": 13,
     "metadata": {},
     "output_type": "execute_result"
    }
   ],
   "source": [
    "#Q5\n",
    "model_id = keras.models.load_model('saved_model/')\n",
    "print(model_id.summary())\n",
    "model_id.evaluate(test_images,test_labels,verbose=2)"
   ]
  },
  {
   "cell_type": "code",
   "execution_count": null,
   "metadata": {
    "colab": {
     "base_uri": "https://localhost:8080/"
    },
    "id": "bZ8vtPPvYwFt",
    "outputId": "74fcfcd5-3b7d-4663-cffe-59921478d6c8"
   },
   "outputs": [
    {
     "name": "stdout",
     "output_type": "stream",
     "text": [
      "Model: \"model\"\n",
      "_________________________________________________________________\n",
      " Layer (type)                Output Shape              Param #   \n",
      "=================================================================\n",
      " conv2d_13_input (InputLayer  [(None, 32, 32, 1)]      0         \n",
      " )                                                               \n",
      "                                                                 \n",
      " conv2d_13 (Conv2D)          (None, 30, 30, 32)        320       \n",
      "                                                                 \n",
      " max_pooling2d_11 (MaxPoolin  (None, 15, 15, 32)       0         \n",
      " g2D)                                                            \n",
      "                                                                 \n",
      " conv2d_14 (Conv2D)          (None, 13, 13, 64)        18496     \n",
      "                                                                 \n",
      " max_pooling2d_12 (MaxPoolin  (None, 6, 6, 64)         0         \n",
      " g2D)                                                            \n",
      "                                                                 \n",
      " flatten_6 (Flatten)         (None, 2304)              0         \n",
      "                                                                 \n",
      " dense_13 (Dense)            (None, 64)                147520    \n",
      "                                                                 \n",
      " dense_15 (Dense)            (None, 10)                650       \n",
      "                                                                 \n",
      "=================================================================\n",
      "Total params: 166,986\n",
      "Trainable params: 166,986\n",
      "Non-trainable params: 0\n",
      "_________________________________________________________________\n",
      "None\n",
      "Epoch 1/3\n",
      "1875/1875 - 67s - loss: 0.0915 - accuracy: 0.9759 - 67s/epoch - 36ms/step\n",
      "Epoch 2/3\n",
      "1875/1875 - 69s - loss: 0.0204 - accuracy: 0.9934 - 69s/epoch - 37ms/step\n",
      "Epoch 3/3\n",
      "1875/1875 - 75s - loss: 0.0146 - accuracy: 0.9950 - 75s/epoch - 40ms/step\n",
      "313/313 - 3s - loss: 0.0324 - accuracy: 0.9899 - 3s/epoch - 10ms/step\n"
     ]
    },
    {
     "data": {
      "text/plain": [
       "[0.03241473808884621, 0.9898999929428101]"
      ]
     },
     "execution_count": 15,
     "metadata": {},
     "output_type": "execute_result"
    }
   ],
   "source": [
    "#Q6\n",
    "base_inputs = model_id.layers[0].input\n",
    "base_outputs = model_id.layers[-2].output\n",
    "output = layers.Dense(10)(base_outputs)\n",
    "\n",
    "new_model = keras.Model(inputs=base_inputs,outputs=output)\n",
    "new_model.compile(optimizer=keras.optimizers.Adam() ,loss=tf.keras.losses.SparseCategoricalCrossentropy(from_logits=True),metrics=['accuracy'])\n",
    "print(new_model.summary())\n",
    "\n",
    "new_model.fit(train_images,train_labels,epochs=3, verbose=2)\n",
    "new_model.evaluate(test_images,test_labels,verbose=2) "
   ]
  },
  {
   "cell_type": "code",
   "execution_count": null,
   "metadata": {
    "colab": {
     "base_uri": "https://localhost:8080/"
    },
    "id": "t7_QqX7_abiy",
    "outputId": "2f035300-1c9d-4d3e-9833-eb5b145374f1"
   },
   "outputs": [
    {
     "name": "stdout",
     "output_type": "stream",
     "text": [
      "Epoch 1/3\n",
      "1875/1875 - 19s - loss: 0.3359 - accuracy: 0.9257 - 19s/epoch - 10ms/step\n",
      "Epoch 2/3\n",
      "1875/1875 - 18s - loss: 0.0203 - accuracy: 0.9943 - 18s/epoch - 10ms/step\n",
      "Epoch 3/3\n",
      "1875/1875 - 19s - loss: 0.0134 - accuracy: 0.9963 - 19s/epoch - 10ms/step\n",
      "313/313 - 3s - loss: 0.0250 - accuracy: 0.9913 - 3s/epoch - 10ms/step\n"
     ]
    },
    {
     "data": {
      "text/plain": [
       "[0.025021089240908623, 0.9912999868392944]"
      ]
     },
     "execution_count": 16,
     "metadata": {},
     "output_type": "execute_result"
    }
   ],
   "source": [
    "#Q7\n",
    "model_for_tl = keras.models.load_model('saved_model/')\n",
    "model_for_tl.trainable = False\n",
    "for layer in model_for_tl.layers:\n",
    "  assert layer.trainable == False\n",
    "\n",
    "base_inputs = model_for_tl.layers[0].input\n",
    "base_outputs = model_for_tl.layers[-2].output\n",
    "output = layers.Dense(10)(base_outputs)\n",
    "\n",
    "new_model = keras.Model(inputs=base_inputs,outputs=output)\n",
    "new_model.compile(optimizer=keras.optimizers.Adam() ,loss=tf.keras.losses.SparseCategoricalCrossentropy(from_logits=True),metrics=['accuracy'])\n",
    "\n",
    "new_model.fit(train_images,train_labels,epochs=3, verbose=2)\n",
    "new_model.evaluate(test_images,test_labels,verbose=2) "
   ]
  },
  {
   "cell_type": "code",
   "execution_count": 3,
   "metadata": {
    "colab": {
     "base_uri": "https://localhost:8080/"
    },
    "id": "LUb_42vMQ7SA",
    "outputId": "4d2f0918-a4e8-4047-d5d0-ec2803e2279a"
   },
   "outputs": [
    {
     "name": "stdout",
     "output_type": "stream",
     "text": [
      "Downloading data from https://storage.googleapis.com/tensorflow/keras-applications/resnet/resnet50v2_weights_tf_dim_ordering_tf_kernels.h5\n",
      "102875136/102869336 [==============================] - 4s 0us/step\n",
      "102883328/102869336 [==============================] - 4s 0us/step\n",
      "Epoch 1/15\n",
      "1/1 [==============================] - 5s 5s/step - loss: 1.9619 - accuracy: 0.0000e+00\n",
      "Epoch 2/15\n",
      "1/1 [==============================] - 1s 745ms/step - loss: 1.8368 - accuracy: 0.0000e+00\n",
      "Epoch 3/15\n",
      "1/1 [==============================] - 1s 739ms/step - loss: 1.7402 - accuracy: 0.0000e+00\n",
      "Epoch 4/15\n",
      "1/1 [==============================] - 1s 770ms/step - loss: 1.6703 - accuracy: 0.2000\n",
      "Epoch 5/15\n",
      "1/1 [==============================] - 1s 738ms/step - loss: 1.6217 - accuracy: 0.4000\n",
      "Epoch 6/15\n",
      "1/1 [==============================] - 1s 750ms/step - loss: 1.5856 - accuracy: 0.2000\n",
      "Epoch 7/15\n",
      "1/1 [==============================] - 1s 722ms/step - loss: 1.5542 - accuracy: 0.2000\n",
      "Epoch 8/15\n",
      "1/1 [==============================] - 1s 745ms/step - loss: 1.5224 - accuracy: 0.4000\n",
      "Epoch 9/15\n",
      "1/1 [==============================] - 1s 738ms/step - loss: 1.4877 - accuracy: 0.4000\n",
      "Epoch 10/15\n",
      "1/1 [==============================] - 1s 714ms/step - loss: 1.4495 - accuracy: 0.4000\n",
      "Epoch 11/15\n",
      "1/1 [==============================] - 1s 731ms/step - loss: 1.4088 - accuracy: 0.6000\n",
      "Epoch 12/15\n",
      "1/1 [==============================] - 1s 719ms/step - loss: 1.3670 - accuracy: 0.6000\n",
      "Epoch 13/15\n",
      "1/1 [==============================] - 1s 716ms/step - loss: 1.3258 - accuracy: 0.8000\n",
      "Epoch 14/15\n",
      "1/1 [==============================] - 1s 702ms/step - loss: 1.2860 - accuracy: 0.8000\n",
      "Epoch 15/15\n",
      "1/1 [==============================] - 1s 741ms/step - loss: 1.2483 - accuracy: 0.8000\n"
     ]
    },
    {
     "data": {
      "text/plain": [
       "<keras.callbacks.History at 0x7f5379461b50>"
      ]
     },
     "execution_count": 3,
     "metadata": {},
     "output_type": "execute_result"
    }
   ],
   "source": [
    "#Q8\n",
    "import tensorflow as tf\n",
    "from tensorflow import keras\n",
    "from tensorflow.keras import datasets, layers, models\n",
    "\n",
    "a = tf.random.normal(shape = (5, 224, 224, 3))\n",
    "b = tf.constant([0, 1, 2, 3, 4])\n",
    "ResNet = keras.applications.resnet_v2.ResNet50V2(include_top=True)\n",
    "ResNet.trainable = False\n",
    "for layer in ResNet.layers:\n",
    "    assert layer.trainable == False\n",
    "\n",
    "base_inputs = ResNet.layers[0].input\n",
    "base_outputs = ResNet.layers[-2].output\n",
    "output = layers.Dense(5)(base_outputs)\n",
    "\n",
    "New_model = keras.Model(inputs = base_inputs, outputs = output)\n",
    "New_model.compile(optimizer = keras.optimizers.Adam(), loss = tf.keras.losses.SparseCategoricalCrossentropy(from_logits = True), metrics = ['accuracy'])\n",
    "New_model.fit(a, b, epochs=15)"
   ]
  }
 ],
 "metadata": {
  "colab": {
   "collapsed_sections": [],
   "name": "hw11.ipynb",
   "provenance": []
  },
  "kernelspec": {
   "display_name": "Python 3",
   "language": "python",
   "name": "python3"
  },
  "language_info": {
   "codemirror_mode": {
    "name": "ipython",
    "version": 3
   },
   "file_extension": ".py",
   "mimetype": "text/x-python",
   "name": "python",
   "nbconvert_exporter": "python",
   "pygments_lexer": "ipython3",
   "version": "3.8.5"
  }
 },
 "nbformat": 4,
 "nbformat_minor": 1
}
