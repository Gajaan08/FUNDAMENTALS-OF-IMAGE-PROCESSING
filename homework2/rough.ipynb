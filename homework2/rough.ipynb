{
 "cells": [
  {
   "cell_type": "code",
   "execution_count": null,
   "metadata": {},
   "outputs": [],
   "source": [
    "import cv2\n",
    "import numpy as np\n",
    "\n",
    "# Open the image.\n",
    "img = cv2.imread('spider.png')\n",
    "\n",
    "# Apply log transform.\n",
    "c = 255/(np.log(1 + np.max(img)))\n",
    "log_transformed = c * np.log(1 + img)\n",
    "\n",
    "# Specify the data type.\n",
    "log_transformed = np.array(log_transformed, dtype = np.uint8)\n",
    "\n",
    "# Save the output.\n",
    "cv2.imwrite('log_transformed.jpg', log_transformed)"
   ]
  },
  {
   "cell_type": "code",
   "execution_count": null,
   "metadata": {},
   "outputs": [],
   "source": [
    "import cv2\n",
    "import numpy as np\n",
    " \n",
    " \n",
    "def gammaCorrection(src, gamma):\n",
    "    invGamma = 1 / gamma\n",
    " \n",
    "    table = [((i / 255) ** invGamma) * 255 for i in range(256)]\n",
    "    table = np.array(table, np.uint8)\n",
    " \n",
    "    return cv2.LUT(src, table)\n",
    " \n",
    " \n",
    "img = cv2.imread('spider.png')\n",
    "gammaImg = gammaCorrection(img, 2.2)\n",
    " \n",
    "cv2.imshow('Original image', img)\n",
    "cv2.imshow('Gamma corrected image', gammaImg)\n",
    "cv2.waitKey(0)\n",
    "cv2.destroyAllWindows()"
   ]
  },
  {
   "cell_type": "code",
   "execution_count": null,
   "metadata": {},
   "outputs": [],
   "source": [
    "import cv2 as cv\n",
    "import numpy as np\n",
    "import matplotlib.pyplot as plt\n",
    "c = np.array ( [ ( 50 , 100) , ( 200 , 255) ] )\n",
    "t1 = np.linspace(0, c[0,1], c[0,0] + 1 - 0).astype('uint8')\n",
    "print( len( t1 ) )\n",
    "t2 = np.linspace(c[0,1] + 1, c[1,1], c[1,0] - c[0,0]).astype('uint8')\n",
    "print( len( t2 ) )\n",
    "t3 = np.linspace(c[1,1] , 255, 255 - c[1,0]).astype('uint8')\n",
    "print( len( t3 ) )\n",
    "transform = np.concatenate((t1, t2), axis=0).astype('uint8')\n",
    "transform = np.concatenate((transform, t3), axis=0).astype('uint8')\n",
    "print( len( transform ) )\n",
    "fig , ax = plt.subplots( )\n",
    "ax.plot( transform )\n",
    "ax.set_xlabel( r'Input, $f(\\mathbf{x})$' )\n",
    "ax.set_ylabel('Output, $\\mathrm{T}[f(\\mathbf{x})]$')\n",
    "ax.set_xlim( 0 , 255 )\n",
    "ax.set_ylim( 0 , 255 )\n",
    "ax.set_aspect( 'equal' )\n",
    "plt.savefig( 'transform.png' )\n",
    "plt.show( )\n",
    "img_orig = cv.imread ( 'spider.png' , cv.IMREAD_GRAYSCALE )\n",
    "cv.namedWindow( \" Image \" , cv.WINDOW_AUTOSIZE )\n",
    "cv.imshow( \" Image \" , img_orig )\n",
    "cv.waitKey( 0 )\n",
    "image_transformed = cv.LUT( img_orig , transform )\n",
    "cv.imshow( \" Image \" , image_transformed )\n",
    "cv.waitKey( 0 )\n",
    "cv.destroyAllWindows( )\n"
   ]
  },
  {
   "cell_type": "code",
   "execution_count": null,
   "metadata": {},
   "outputs": [],
   "source": [
    "import cv2\n",
    "\n",
    "from matplotlib import pyplot as plt\n",
    "img = cv2.imread('shells.tif',0)\n",
    "hist1 = cv2.calcHist([img],[0],None,[256],[0,256])\n",
    "plt.plot(hist1)\n",
    "plt.title('Histogram of the original image')\n",
    "plt.show()"
   ]
  }
 ],
 "metadata": {
  "kernelspec": {
   "display_name": "Python 3",
   "language": "python",
   "name": "python3"
  },
  "language_info": {
   "codemirror_mode": {
    "name": "ipython",
    "version": 3
   },
   "file_extension": ".py",
   "mimetype": "text/x-python",
   "name": "python",
   "nbconvert_exporter": "python",
   "pygments_lexer": "ipython3",
   "version": "3.8.5"
  }
 },
 "nbformat": 4,
 "nbformat_minor": 4
}
